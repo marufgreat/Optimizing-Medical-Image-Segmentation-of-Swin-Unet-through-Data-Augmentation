{
  "cells": [
    {
      "cell_type": "markdown",
      "metadata": {
        "id": "3jKLNQcuolnT"
      },
      "source": [
        "# Setting up the environment"
      ]
    },
    {
      "cell_type": "markdown",
      "metadata": {
        "id": "KiidKPC9osjy"
      },
      "source": [
        "Mount the drive:"
      ]
    },
    {
      "cell_type": "code",
      "execution_count": null,
      "metadata": {
        "id": "FfHQlxUQm9NJ"
      },
      "outputs": [],
      "source": [
        "from google.colab import drive\n",
        "drive.mount('/content/drive')"
      ]
    },
    {
      "cell_type": "markdown",
      "metadata": {
        "id": "VM8KOx4Mo5TT"
      },
      "source": [
        "Change current directory into the \"Swin-Unet_Code_Submission\" folder:"
      ]
    },
    {
      "cell_type": "code",
      "execution_count": null,
      "metadata": {
        "id": "NgXXIlIKpCQU"
      },
      "outputs": [],
      "source": [
        "%cd /content/drive/MyDrive/Swin-Unet_Code_Submission\n",
        "!pwd"
      ]
    },
    {
      "cell_type": "markdown",
      "metadata": {
        "id": "y-WSVsuGpSFT"
      },
      "source": [
        "Install dependencies:"
      ]
    },
    {
      "cell_type": "code",
      "execution_count": null,
      "metadata": {
        "id": "ocRo_WdMpWU7"
      },
      "outputs": [],
      "source": [
        "pip install -r requirements.txt\n",
        "pip install yacs"
      ]
    },
    {
      "cell_type": "markdown",
      "metadata": {
        "id": "5FbORIIkplEr"
      },
      "source": [
        "# Synapse Dataset"
      ]
    },
    {
      "cell_type": "markdown",
      "metadata": {
        "id": "VjDK3o24uLuK"
      },
      "source": [
        "Run inference:"
      ]
    },
    {
      "cell_type": "code",
      "execution_count": null,
      "metadata": {
        "id": "h9DnDdfGuPrA"
      },
      "outputs": [],
      "source": [
        "!python test_synapse.py --dataset Synapse --num_classes 9 --cfg configs/swin_tiny_patch4_window7_224_lite.yaml --is_saveni --volume_path data/Synapse --output_dir model_out --max_epoch 150 --base_lr 0.05 --img_size 224 --batch_size 12"
      ]
    },
    {
      "cell_type": "markdown",
      "metadata": {
        "id": "jJ0TCVsNGmNj"
      },
      "source": [
        "After running the inference (on the Synapse test folder), all the test images (3D) along with their predicted labels and ground truths will be stored in the \"model_out/predictions\" folder. To visualize the test results, use the following command. Replace “case0022_img.nii.gz” by any file name in \"model_out/predictions\" folder. Replace slice number “15” by any slice number you want to visualize."
      ]
    },
    {
      "cell_type": "markdown",
      "metadata": {
        "id": "_8AZE8bC4Ula"
      },
      "source": [
        "Visualizing the test results:"
      ]
    },
    {
      "cell_type": "code",
      "execution_count": null,
      "metadata": {
        "id": "UWoX76qRGrDX"
      },
      "outputs": [],
      "source": [
        "!python visualize.py --sample_file model_out/predictions/case0022_img.nii.gz --slice_number 15"
      ]
    },
    {
      "cell_type": "markdown",
      "metadata": {
        "id": "cUxuK-PQLC9t"
      },
      "source": [
        "# ACDC Dataset"
      ]
    },
    {
      "cell_type": "markdown",
      "metadata": {
        "id": "EWZuhCFBLHcG"
      },
      "source": [
        "Run inference:"
      ]
    },
    {
      "cell_type": "code",
      "execution_count": null,
      "metadata": {
        "id": "BQhJSFM1LKdv"
      },
      "outputs": [],
      "source": [
        "!python test_acdc.py --dataset ACDC --num_classes 4 --cfg configs/swin_tiny_patch4_window7_224_lite.yaml --is_saveni --volume_path data/ACDC --output_dir model_out --max_epoch 150 --base_lr 0.05 --img_size 224 --batch_size 12"
      ]
    },
    {
      "cell_type": "markdown",
      "metadata": {
        "id": "gh94zj92LzEW"
      },
      "source": [
        "After running the inference (on the ACDC test folder), all the test images (3D) along with their predicted labels and ground truths will be stored in the \"model_out/predictions\" folder. To visualize the test results, use the following command. Replace “patient020_01_pred.nii.gz” by any file name in \"model_out/predictions\" folder. Replace slice number “7” by any slice number you want to visualize."
      ]
    },
    {
      "cell_type": "markdown",
      "metadata": {
        "id": "57fmmCY1Lz6t"
      },
      "source": [
        "Visualizing the test results:"
      ]
    },
    {
      "cell_type": "code",
      "execution_count": null,
      "metadata": {
        "id": "aGQAoFSqL3KP"
      },
      "outputs": [],
      "source": [
        "!python visualize.py --sample_file model_out/predictions/patient020_01_pred.nii.gz --slice_number 7"
      ]
    }
  ],
  "metadata": {
    "colab": {
      "provenance": []
    },
    "kernelspec": {
      "display_name": "Python 3",
      "name": "python3"
    },
    "language_info": {
      "name": "python"
    }
  },
  "nbformat": 4,
  "nbformat_minor": 0
}
